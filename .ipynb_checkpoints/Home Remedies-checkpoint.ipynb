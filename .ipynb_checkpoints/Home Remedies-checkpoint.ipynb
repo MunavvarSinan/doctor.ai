{
 "cells": [
  {
   "cell_type": "code",
   "execution_count": 1,
   "id": "4aa375b5",
   "metadata": {},
   "outputs": [
    {
     "ename": "ModuleNotFoundError",
     "evalue": "No module named 'openpyxl'",
     "output_type": "error",
     "traceback": [
      "\u001b[0;31m---------------------------------------------------------------------------\u001b[0m",
      "\u001b[0;31mModuleNotFoundError\u001b[0m                       Traceback (most recent call last)",
      "\u001b[1;32m/home/munavvarsinan/Documents/project-final/MediCURE-Disease-Prediction-based-on-Symptoms/Home Remedies.ipynb Cell 1\u001b[0m line \u001b[0;36m1\n\u001b[0;32m----> <a href='vscode-notebook-cell:/home/munavvarsinan/Documents/project-final/MediCURE-Disease-Prediction-based-on-Symptoms/Home%20Remedies.ipynb#W0sZmlsZQ%3D%3D?line=0'>1</a>\u001b[0m \u001b[39mimport\u001b[39;00m \u001b[39mopenpyxl\u001b[39;00m\n\u001b[1;32m      <a href='vscode-notebook-cell:/home/munavvarsinan/Documents/project-final/MediCURE-Disease-Prediction-based-on-Symptoms/Home%20Remedies.ipynb#W0sZmlsZQ%3D%3D?line=2'>3</a>\u001b[0m \u001b[39mdef\u001b[39;00m \u001b[39mfetch_row_from_excel\u001b[39m(search_value):\n\u001b[1;32m      <a href='vscode-notebook-cell:/home/munavvarsinan/Documents/project-final/MediCURE-Disease-Prediction-based-on-Symptoms/Home%20Remedies.ipynb#W0sZmlsZQ%3D%3D?line=3'>4</a>\u001b[0m     workbook \u001b[39m=\u001b[39m openpyxl\u001b[39m.\u001b[39mload_workbook(\u001b[39m'\u001b[39m\u001b[39mF:\u001b[39m\u001b[39m\\\u001b[39m\u001b[39mSEM 6\u001b[39m\u001b[39m\\\u001b[39m\u001b[39mMinor-2\u001b[39m\u001b[39m\\\u001b[39m\u001b[39mDisease-Detection-based-on-Symptoms-master\u001b[39m\u001b[39m\\\u001b[39m\u001b[39mcure minor.xlsx\u001b[39m\u001b[39m'\u001b[39m)\n",
      "\u001b[0;31mModuleNotFoundError\u001b[0m: No module named 'openpyxl'"
     ]
    }
   ],
   "source": [
    "import openpyxl\n",
    "\n",
    "def fetch_row_from_excel(search_value):\n",
    "    workbook = openpyxl.load_workbook('F:\\SEM 6\\Minor-2\\Disease-Detection-based-on-Symptoms-master\\cure minor.xlsx')\n",
    "    worksheet = workbook['Sheet1']\n",
    "    for row in worksheet.iter_rows(values_only=True):\n",
    "        if search_value in row:\n",
    "            stri = ''.join(row[1:])\n",
    "            return stri.split(',')\n",
    "    return None"
   ]
  },
  {
   "cell_type": "code",
   "execution_count": 31,
   "id": "d1e32d61",
   "metadata": {},
   "outputs": [
    {
     "name": "stdout",
     "output_type": "stream",
     "text": [
      "The home remedies for Amoebiasis are: \n"
     ]
    },
    {
     "data": {
      "text/plain": [
       "['Practice yoga daily to help boost flexibility',\n",
       " 'Consume omega-3 capsules',\n",
       " 'Consume black or green tea',\n",
       " 'Stick to a plant based diet involving fruits and vegetables.']"
      ]
     },
     "execution_count": 31,
     "metadata": {},
     "output_type": "execute_result"
    }
   ],
   "source": [
    "print(f\"The home remedies for {search_value} are: \")\n",
    "\n",
    "fetch_row_from_excel('Asthma')"
   ]
  }
 ],
 "metadata": {
  "kernelspec": {
   "display_name": "Python 3",
   "language": "python",
   "name": "python3"
  },
  "language_info": {
   "codemirror_mode": {
    "name": "ipython",
    "version": 3
   },
   "file_extension": ".py",
   "mimetype": "text/x-python",
   "name": "python",
   "nbconvert_exporter": "python",
   "pygments_lexer": "ipython3",
   "version": "3.10.12"
  }
 },
 "nbformat": 4,
 "nbformat_minor": 5
}
